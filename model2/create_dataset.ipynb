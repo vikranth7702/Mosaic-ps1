{
 "cells": [
  {
   "cell_type": "markdown",
   "metadata": {},
   "source": [
    "<h1>A Program to Create Database</h1>"
   ]
  },
  {
   "cell_type": "markdown",
   "metadata": {
    "collapsed": true
   },
   "source": [
    "<h2>What do we need?</h2>\n",
    "<b>numpy:</b><br>\n",
    "Numpy is Numerical Python and it is used for doing numerical problems like linear algebra, array and matrix operation etc.<br/>\n",
    "<b>os:</b><br>\n",
    "This builti-n python library which allows us to walk through directory to browse local file and directory.<br>\n",
    "<b>csv:</b><br>\n",
    "This is the shortform for Comma Separated Value and this built-in library allows us to operate on csv files.<br/>\n",
    "<b>cv2:</b><br>\n",
    "This is the short form of OpenCv. This allows us to do digital image processing operations.\n",
    "\n"
   ]
  },
  {
   "cell_type": "code",
   "execution_count": 3,
   "metadata": {
    "collapsed": true
   },
   "outputs": [],
   "source": [
    "#import libraries\n",
    "import os\n",
    "import numpy as np\n",
    "import csv\n",
    "import cv2"
   ]
  },
  {
   "cell_type": "code",
   "execution_count": 4,
   "metadata": {},
   "outputs": [],
   "source": [
    "#define a method to wrap all essential processes, we will give location to the function\n",
    "def create_csv_data_file(location):\n",
    "    \n",
    "    #Check if files already exists    \n",
    "    exists = os.path.isfile(location[:len(location)-1] + '.csv')\n",
    "    if(exists):\n",
    "        print(location[:len(location)-1] +  'set already present.')\n",
    "    else:\n",
    "        print(\"Creating\", location[:len(location)-1], \" train file.\")\n",
    "        \n",
    "\n",
    "        #iterate through the given location's every directory's list\n",
    "        for each_dir in os.listdir(location):\n",
    "            #again iterate through the given location's every directory's list\n",
    "            for image in os.listdir(location + each_dir):\n",
    "\n",
    "                #open every images inside that directory in grayscale\n",
    "                images = location + each_dir +'/' + image \n",
    "                open_image = cv2.imread(images, 0)\n",
    "                image_labels = each_dir.split('_')\n",
    "\n",
    "                #give label to each character from 0 to 9 and ka to gya\n",
    "                #digits label are from 0 to 9 while letters are 10 to 45\n",
    "                if(len(image_labels) == 3): \n",
    "                    label = int(image_labels[::-1][1]) + 9\n",
    "                elif(len(image_labels) == 2):\n",
    "                    label = int(image_labels[::-1][0]) \n",
    "\n",
    "                #first column will hold the label of the example and rest 1024 will hold pixel info.\n",
    "                image_array = np.hstack([np.array(label), np.array(open_image).reshape(1024)])\n",
    "\n",
    "                #append the image information into corresponding file\n",
    "                with open(location[:len(location)-1] + '.csv', 'a', newline = '') as f:\n",
    "                    writer = csv.writer(f)\n",
    "                    writer.writerow(image_array)\n",
    "\n"
   ]
  },
  {
   "cell_type": "code",
   "execution_count": 6,
   "metadata": {},
   "outputs": [
    {
     "output_type": "stream",
     "name": "stdout",
     "text": [
      "Creating C:/Users/Asus/Desktop/mosaic/Trai  train file.\n"
     ]
    },
    {
     "output_type": "error",
     "ename": "FileNotFoundError",
     "evalue": "[WinError 3] The system cannot find the path specified: 'C:/Users/Asus/Desktop/mosaic/Train'",
     "traceback": [
      "\u001b[1;31m---------------------------------------------------------------------------\u001b[0m",
      "\u001b[1;31mFileNotFoundError\u001b[0m                         Traceback (most recent call last)",
      "\u001b[1;32m<ipython-input-6-675133973489>\u001b[0m in \u001b[0;36m<module>\u001b[1;34m\u001b[0m\n\u001b[1;32m----> 1\u001b[1;33m \u001b[0mcreate_csv_data_file\u001b[0m\u001b[1;33m(\u001b[0m\u001b[1;34m'C:/Users/Asus/Desktop/mosaic/Train'\u001b[0m\u001b[1;33m)\u001b[0m\u001b[1;33m\u001b[0m\u001b[1;33m\u001b[0m\u001b[0m\n\u001b[0m\u001b[0;32m      2\u001b[0m \u001b[0mprint\u001b[0m\u001b[1;33m(\u001b[0m\u001b[1;34m'Done Creating trainset !!!!\\n'\u001b[0m\u001b[1;33m)\u001b[0m\u001b[1;33m\u001b[0m\u001b[1;33m\u001b[0m\u001b[0m\n\u001b[0;32m      3\u001b[0m \u001b[0mcreate_csv_data_file\u001b[0m\u001b[1;33m(\u001b[0m\u001b[1;34m'DevanagariHandwrittenCharacterDataset/Test/'\u001b[0m\u001b[1;33m)\u001b[0m\u001b[1;33m\u001b[0m\u001b[1;33m\u001b[0m\u001b[0m\n\u001b[0;32m      4\u001b[0m \u001b[0mprint\u001b[0m\u001b[1;33m(\u001b[0m\u001b[1;34m'Done Creating testset !!!!'\u001b[0m\u001b[1;33m)\u001b[0m\u001b[1;33m\u001b[0m\u001b[1;33m\u001b[0m\u001b[0m\n",
      "\u001b[1;32m<ipython-input-4-b5b388575c08>\u001b[0m in \u001b[0;36mcreate_csv_data_file\u001b[1;34m(location)\u001b[0m\n\u001b[0;32m     11\u001b[0m \u001b[1;33m\u001b[0m\u001b[0m\n\u001b[0;32m     12\u001b[0m         \u001b[1;31m#iterate through the given location's every directory's list\u001b[0m\u001b[1;33m\u001b[0m\u001b[1;33m\u001b[0m\u001b[1;33m\u001b[0m\u001b[0m\n\u001b[1;32m---> 13\u001b[1;33m         \u001b[1;32mfor\u001b[0m \u001b[0meach_dir\u001b[0m \u001b[1;32min\u001b[0m \u001b[0mos\u001b[0m\u001b[1;33m.\u001b[0m\u001b[0mlistdir\u001b[0m\u001b[1;33m(\u001b[0m\u001b[0mlocation\u001b[0m\u001b[1;33m)\u001b[0m\u001b[1;33m:\u001b[0m\u001b[1;33m\u001b[0m\u001b[1;33m\u001b[0m\u001b[0m\n\u001b[0m\u001b[0;32m     14\u001b[0m             \u001b[1;31m#again iterate through the given location's every directory's list\u001b[0m\u001b[1;33m\u001b[0m\u001b[1;33m\u001b[0m\u001b[1;33m\u001b[0m\u001b[0m\n\u001b[0;32m     15\u001b[0m             \u001b[1;32mfor\u001b[0m \u001b[0mimage\u001b[0m \u001b[1;32min\u001b[0m \u001b[0mos\u001b[0m\u001b[1;33m.\u001b[0m\u001b[0mlistdir\u001b[0m\u001b[1;33m(\u001b[0m\u001b[0mlocation\u001b[0m \u001b[1;33m+\u001b[0m \u001b[0meach_dir\u001b[0m\u001b[1;33m)\u001b[0m\u001b[1;33m:\u001b[0m\u001b[1;33m\u001b[0m\u001b[1;33m\u001b[0m\u001b[0m\n",
      "\u001b[1;31mFileNotFoundError\u001b[0m: [WinError 3] The system cannot find the path specified: 'C:/Users/Asus/Desktop/mosaic/Train'"
     ]
    }
   ],
   "source": [
    "create_csv_data_file('Train')\n",
    "print('Done Creating trainset !!!!\\n')\n",
    "create_csv_data_file('Test')\n",
    "print('Done Creating testset !!!!')"
   ]
  },
  {
   "cell_type": "code",
   "execution_count": null,
   "metadata": {
    "collapsed": true
   },
   "outputs": [],
   "source": []
  }
 ],
 "metadata": {
  "kernelspec": {
   "name": "python383jvsc74a57bd031ff804e05c542abfdab620000e5333bc9afc6a565bbee95afa27485d8eec998",
   "display_name": "Python 3.8.3 64-bit ('base': conda)"
  },
  "language_info": {
   "codemirror_mode": {
    "name": "ipython",
    "version": 3
   },
   "file_extension": ".py",
   "mimetype": "text/x-python",
   "name": "python",
   "nbconvert_exporter": "python",
   "pygments_lexer": "ipython3",
   "version": "3.8.3"
  }
 },
 "nbformat": 4,
 "nbformat_minor": 2
}